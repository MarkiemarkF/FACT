{
 "cells": [
  {
   "cell_type": "code",
   "execution_count": 1,
   "metadata": {},
   "outputs": [
    {
     "name": "stderr",
     "output_type": "stream",
     "text": [
      "C:\\Users\\321lu\\.conda\\envs\\fact_vfc\\lib\\site-packages\\sklearn\\utils\\deprecation.py:144: FutureWarning: The sklearn.cluster.k_means_ module is  deprecated in version 0.22 and will be removed in version 0.24. The corresponding classes / functions should instead be imported from sklearn.cluster. Anything that cannot be imported from sklearn.cluster is now part of the private API.\n",
      "  warnings.warn(message, FutureWarning)\n"
     ]
    }
   ],
   "source": [
    "from sklearn.cluster import KMeans\n",
    "import sklearn\n",
    "import numpy as np\n",
    "import random\n",
    "import os\n",
    "\n",
    "from sklearn.preprocessing import scale\n",
    "from src.utils  import normalizefea\n",
    "from sklearn.cluster.k_means_ import _init_centroids\n",
    "from src.fair_clustering import km_le, ecdist"
   ]
  },
  {
   "cell_type": "code",
   "execution_count": 2,
   "metadata": {},
   "outputs": [],
   "source": [
    "dataset = \"Synthetic\"\n",
    "data_dir = os.path.join(os.path.join(os.getcwd(), \"data\"), dataset)\n",
    "# ###  Data load\n",
    "savepath_compare =  os.path.join(data_dir,dataset+'.npz')\n",
    "\n",
    "datas = np.load(savepath_compare)\n",
    "X_org = datas['X_org']\n",
    "demograph = datas['demograph']\n",
    "K = datas['K'].item()\n",
    "\n",
    "# Scale and Normalize Features\n",
    "X_org = scale(X_org, axis = 0)\n",
    "X = normalizefea(X_org)\n",
    "K = 3"
   ]
  },
  {
   "cell_type": "code",
   "execution_count": 3,
   "metadata": {},
   "outputs": [],
   "source": [
    "seed = 44\n",
    "np.random.seed(seed)\n",
    "random.seed(seed)"
   ]
  },
  {
   "cell_type": "code",
   "execution_count": 4,
   "metadata": {},
   "outputs": [
    {
     "name": "stdout",
     "output_type": "stream",
     "text": [
      "[[ 0.0025679  -0.71783841]\n",
      " [-0.69834456  0.71010988]\n",
      " [ 0.69475691  0.71168776]]\n"
     ]
    }
   ],
   "source": [
    "kmeans = KMeans(n_clusters=K).fit(X)\n",
    "l =kmeans.labels_\n",
    "M = kmeans.cluster_centers_\n",
    "print(M)"
   ]
  },
  {
   "cell_type": "code",
   "execution_count": 5,
   "metadata": {},
   "outputs": [
    {
     "name": "stdout",
     "output_type": "stream",
     "text": [
      "[[ 0.6655357  -0.74636601]\n",
      " [-0.56962532  0.82190449]\n",
      " [-0.4744721  -0.88027054]]\n"
     ]
    },
    {
     "name": "stderr",
     "output_type": "stream",
     "text": [
      "d:\\Users\\Luuk\\Documents\\Programming\\ai_master\\FACT\\FACT\\src\\fair_clustering.py:106: NumbaWarning: \u001b[1m\n",
      "Compilation is falling back to object mode WITH looplifting enabled because Function \"km_le\" failed type inference due to: \u001b[1mUntyped global name 'ecdist':\u001b[0m \u001b[1m\u001b[1mCannot determine Numba type of <class 'function'>\u001b[0m\n",
      "\u001b[1m\n",
      "File \"src\\fair_clustering.py\", line 113:\u001b[0m\n",
      "\u001b[1mdef km_le(X,M):\n",
      "    <source elided>\n",
      "    \"\"\"\n",
      "\u001b[1m    e_dist = ecdist(X,M)          \n",
      "\u001b[0m    \u001b[1m^\u001b[0m\u001b[0m\n",
      "\u001b[0m\u001b[0m\n",
      "  @jit\n",
      "C:\\Users\\321lu\\.conda\\envs\\fact_vfc\\lib\\site-packages\\numba\\core\\object_mode_passes.py:152: NumbaWarning: \u001b[1mFunction \"km_le\" was compiled in object mode without forceobj=True.\n",
      "\u001b[1m\n",
      "File \"src\\fair_clustering.py\", line 107:\u001b[0m\n",
      "\u001b[1m@jit\n",
      "\u001b[1mdef km_le(X,M):\n",
      "\u001b[0m\u001b[1m^\u001b[0m\u001b[0m\n",
      "\u001b[0m\n",
      "  state.func_ir.loc))\n",
      "C:\\Users\\321lu\\.conda\\envs\\fact_vfc\\lib\\site-packages\\numba\\core\\object_mode_passes.py:162: NumbaDeprecationWarning: \u001b[1m\n",
      "Fall-back from the nopython compilation path to the object mode compilation path has been detected, this is deprecated behaviour.\n",
      "\n",
      "For more information visit https://numba.pydata.org/numba-doc/latest/reference/deprecation.html#deprecation-of-object-mode-fall-back-behaviour-when-using-jit\n",
      "\u001b[1m\n",
      "File \"src\\fair_clustering.py\", line 107:\u001b[0m\n",
      "\u001b[1m@jit\n",
      "\u001b[1mdef km_le(X,M):\n",
      "\u001b[0m\u001b[1m^\u001b[0m\u001b[0m\n",
      "\u001b[0m\n",
      "  state.func_ir.loc))\n"
     ]
    }
   ],
   "source": [
    "M =_init_centroids(X,K,init='k-means++')\n",
    "l = km_le(X,M)\n",
    "print(M)"
   ]
  },
  {
   "cell_type": "code",
   "execution_count": null,
   "metadata": {},
   "outputs": [],
   "source": []
  }
 ],
 "metadata": {
  "interpreter": {
   "hash": "d5cc03dcd2e2df7f8793d069ea863b6d1996a0b7026a80ee0313ee24cbfa610e"
  },
  "kernelspec": {
   "display_name": "Python 3.6.13 64-bit ('fact_vfc': conda)",
   "language": "python",
   "name": "python3"
  },
  "language_info": {
   "codemirror_mode": {
    "name": "ipython",
    "version": 3
   },
   "file_extension": ".py",
   "mimetype": "text/x-python",
   "name": "python",
   "nbconvert_exporter": "python",
   "pygments_lexer": "ipython3",
   "version": "3.6.13"
  },
  "orig_nbformat": 4
 },
 "nbformat": 4,
 "nbformat_minor": 2
}
